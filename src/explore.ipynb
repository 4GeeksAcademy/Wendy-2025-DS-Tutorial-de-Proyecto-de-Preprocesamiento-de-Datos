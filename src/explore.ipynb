{
    "cells": [
        {
            "cell_type": "markdown",
            "metadata": {},
            "source": [
                "# EXPLORATORY DATA ANALYSIS"
            ]
        },
        {
            "cell_type": "code",
            "execution_count": 1,
            "metadata": {},
            "outputs": [
                {
                    "name": "stdout",
                    "output_type": "stream",
                    "text": [
                        "Defaulting to user installation because normal site-packages is not writeable\n",
                        "Requirement already satisfied: missingno in /home/vscode/.local/lib/python3.11/site-packages (0.5.2)\n",
                        "Requirement already satisfied: lazypredict in /home/vscode/.local/lib/python3.11/site-packages (0.2.16)\n",
                        "Requirement already satisfied: scikit-optimize in /home/vscode/.local/lib/python3.11/site-packages (0.10.2)\n",
                        "Requirement already satisfied: numpy in /home/vscode/.local/lib/python3.11/site-packages (from missingno) (2.3.1)\n",
                        "Requirement already satisfied: matplotlib in /home/vscode/.local/lib/python3.11/site-packages (from missingno) (3.10.3)\n",
                        "Requirement already satisfied: scipy in /home/vscode/.local/lib/python3.11/site-packages (from missingno) (1.16.0)\n",
                        "Requirement already satisfied: seaborn in /home/vscode/.local/lib/python3.11/site-packages (from missingno) (0.13.2)\n",
                        "Requirement already satisfied: click in /home/vscode/.local/lib/python3.11/site-packages (from lazypredict) (8.2.1)\n",
                        "Requirement already satisfied: scikit-learn in /home/vscode/.local/lib/python3.11/site-packages (from lazypredict) (1.7.0)\n",
                        "Requirement already satisfied: pandas in /home/vscode/.local/lib/python3.11/site-packages (from lazypredict) (2.3.0)\n",
                        "Requirement already satisfied: tqdm in /home/vscode/.local/lib/python3.11/site-packages (from lazypredict) (4.67.1)\n",
                        "Requirement already satisfied: joblib in /home/vscode/.local/lib/python3.11/site-packages (from lazypredict) (1.5.1)\n",
                        "Requirement already satisfied: lightgbm in /home/vscode/.local/lib/python3.11/site-packages (from lazypredict) (4.6.0)\n",
                        "Requirement already satisfied: xgboost in /home/vscode/.local/lib/python3.11/site-packages (from lazypredict) (3.0.2)\n",
                        "Requirement already satisfied: pytest-runner in /home/vscode/.local/lib/python3.11/site-packages (from lazypredict) (6.0.1)\n",
                        "Requirement already satisfied: mlflow>=2.0.0 in /home/vscode/.local/lib/python3.11/site-packages (from lazypredict) (3.1.1)\n",
                        "Requirement already satisfied: pyaml>=16.9 in /home/vscode/.local/lib/python3.11/site-packages (from scikit-optimize) (25.5.0)\n",
                        "Requirement already satisfied: packaging>=21.3 in /home/vscode/.local/lib/python3.11/site-packages (from scikit-optimize) (25.0)\n",
                        "Requirement already satisfied: mlflow-skinny==3.1.1 in /home/vscode/.local/lib/python3.11/site-packages (from mlflow>=2.0.0->lazypredict) (3.1.1)\n",
                        "Requirement already satisfied: Flask<4 in /home/vscode/.local/lib/python3.11/site-packages (from mlflow>=2.0.0->lazypredict) (3.1.1)\n",
                        "Requirement already satisfied: alembic!=1.10.0,<2 in /home/vscode/.local/lib/python3.11/site-packages (from mlflow>=2.0.0->lazypredict) (1.16.2)\n",
                        "Requirement already satisfied: docker<8,>=4.0.0 in /home/vscode/.local/lib/python3.11/site-packages (from mlflow>=2.0.0->lazypredict) (7.1.0)\n",
                        "Requirement already satisfied: graphene<4 in /home/vscode/.local/lib/python3.11/site-packages (from mlflow>=2.0.0->lazypredict) (3.4.3)\n",
                        "Requirement already satisfied: gunicorn<24 in /home/vscode/.local/lib/python3.11/site-packages (from mlflow>=2.0.0->lazypredict) (23.0.0)\n",
                        "Requirement already satisfied: pyarrow<21,>=4.0.0 in /home/vscode/.local/lib/python3.11/site-packages (from mlflow>=2.0.0->lazypredict) (20.0.0)\n",
                        "Requirement already satisfied: sqlalchemy<3,>=1.4.0 in /home/vscode/.local/lib/python3.11/site-packages (from mlflow>=2.0.0->lazypredict) (2.0.41)\n",
                        "Requirement already satisfied: cachetools<7,>=5.0.0 in /home/vscode/.local/lib/python3.11/site-packages (from mlflow-skinny==3.1.1->mlflow>=2.0.0->lazypredict) (5.5.2)\n",
                        "Requirement already satisfied: cloudpickle<4 in /home/vscode/.local/lib/python3.11/site-packages (from mlflow-skinny==3.1.1->mlflow>=2.0.0->lazypredict) (3.1.1)\n",
                        "Requirement already satisfied: databricks-sdk<1,>=0.20.0 in /home/vscode/.local/lib/python3.11/site-packages (from mlflow-skinny==3.1.1->mlflow>=2.0.0->lazypredict) (0.57.0)\n",
                        "Requirement already satisfied: fastapi<1 in /home/vscode/.local/lib/python3.11/site-packages (from mlflow-skinny==3.1.1->mlflow>=2.0.0->lazypredict) (0.115.13)\n",
                        "Requirement already satisfied: gitpython<4,>=3.1.9 in /home/vscode/.local/lib/python3.11/site-packages (from mlflow-skinny==3.1.1->mlflow>=2.0.0->lazypredict) (3.1.44)\n",
                        "Requirement already satisfied: importlib_metadata!=4.7.0,<9,>=3.7.0 in /home/vscode/.local/lib/python3.11/site-packages (from mlflow-skinny==3.1.1->mlflow>=2.0.0->lazypredict) (8.7.0)\n",
                        "Requirement already satisfied: opentelemetry-api<3,>=1.9.0 in /home/vscode/.local/lib/python3.11/site-packages (from mlflow-skinny==3.1.1->mlflow>=2.0.0->lazypredict) (1.34.1)\n",
                        "Requirement already satisfied: opentelemetry-sdk<3,>=1.9.0 in /home/vscode/.local/lib/python3.11/site-packages (from mlflow-skinny==3.1.1->mlflow>=2.0.0->lazypredict) (1.34.1)\n",
                        "Requirement already satisfied: protobuf<7,>=3.12.0 in /home/vscode/.local/lib/python3.11/site-packages (from mlflow-skinny==3.1.1->mlflow>=2.0.0->lazypredict) (6.31.1)\n",
                        "Requirement already satisfied: pydantic<3,>=1.10.8 in /home/vscode/.local/lib/python3.11/site-packages (from mlflow-skinny==3.1.1->mlflow>=2.0.0->lazypredict) (2.11.7)\n",
                        "Requirement already satisfied: pyyaml<7,>=5.1 in /home/vscode/.local/lib/python3.11/site-packages (from mlflow-skinny==3.1.1->mlflow>=2.0.0->lazypredict) (6.0.2)\n",
                        "Requirement already satisfied: requests<3,>=2.17.3 in /home/vscode/.local/lib/python3.11/site-packages (from mlflow-skinny==3.1.1->mlflow>=2.0.0->lazypredict) (2.32.4)\n",
                        "Requirement already satisfied: sqlparse<1,>=0.4.0 in /home/vscode/.local/lib/python3.11/site-packages (from mlflow-skinny==3.1.1->mlflow>=2.0.0->lazypredict) (0.5.3)\n",
                        "Requirement already satisfied: typing-extensions<5,>=4.0.0 in /home/vscode/.local/lib/python3.11/site-packages (from mlflow-skinny==3.1.1->mlflow>=2.0.0->lazypredict) (4.14.0)\n",
                        "Requirement already satisfied: uvicorn<1 in /home/vscode/.local/lib/python3.11/site-packages (from mlflow-skinny==3.1.1->mlflow>=2.0.0->lazypredict) (0.34.3)\n",
                        "Requirement already satisfied: contourpy>=1.0.1 in /home/vscode/.local/lib/python3.11/site-packages (from matplotlib->missingno) (1.3.2)\n",
                        "Requirement already satisfied: cycler>=0.10 in /home/vscode/.local/lib/python3.11/site-packages (from matplotlib->missingno) (0.12.1)\n",
                        "Requirement already satisfied: fonttools>=4.22.0 in /home/vscode/.local/lib/python3.11/site-packages (from matplotlib->missingno) (4.58.4)\n",
                        "Requirement already satisfied: kiwisolver>=1.3.1 in /home/vscode/.local/lib/python3.11/site-packages (from matplotlib->missingno) (1.4.8)\n",
                        "Requirement already satisfied: pillow>=8 in /home/vscode/.local/lib/python3.11/site-packages (from matplotlib->missingno) (11.2.1)\n",
                        "Requirement already satisfied: pyparsing>=2.3.1 in /home/vscode/.local/lib/python3.11/site-packages (from matplotlib->missingno) (3.2.3)\n",
                        "Requirement already satisfied: python-dateutil>=2.7 in /home/vscode/.local/lib/python3.11/site-packages (from matplotlib->missingno) (2.9.0.post0)\n",
                        "Requirement already satisfied: pytz>=2020.1 in /home/vscode/.local/lib/python3.11/site-packages (from pandas->lazypredict) (2025.2)\n",
                        "Requirement already satisfied: tzdata>=2022.7 in /home/vscode/.local/lib/python3.11/site-packages (from pandas->lazypredict) (2025.2)\n",
                        "Requirement already satisfied: threadpoolctl>=3.1.0 in /home/vscode/.local/lib/python3.11/site-packages (from scikit-learn->lazypredict) (3.6.0)\n",
                        "Requirement already satisfied: nvidia-nccl-cu12 in /home/vscode/.local/lib/python3.11/site-packages (from xgboost->lazypredict) (2.27.3)\n",
                        "Requirement already satisfied: Mako in /home/vscode/.local/lib/python3.11/site-packages (from alembic!=1.10.0,<2->mlflow>=2.0.0->lazypredict) (1.3.10)\n",
                        "Requirement already satisfied: urllib3>=1.26.0 in /home/vscode/.local/lib/python3.11/site-packages (from docker<8,>=4.0.0->mlflow>=2.0.0->lazypredict) (2.5.0)\n",
                        "Requirement already satisfied: blinker>=1.9.0 in /home/vscode/.local/lib/python3.11/site-packages (from Flask<4->mlflow>=2.0.0->lazypredict) (1.9.0)\n",
                        "Requirement already satisfied: itsdangerous>=2.2.0 in /home/vscode/.local/lib/python3.11/site-packages (from Flask<4->mlflow>=2.0.0->lazypredict) (2.2.0)\n",
                        "Requirement already satisfied: jinja2>=3.1.2 in /home/vscode/.local/lib/python3.11/site-packages (from Flask<4->mlflow>=2.0.0->lazypredict) (3.1.6)\n",
                        "Requirement already satisfied: markupsafe>=2.1.1 in /home/vscode/.local/lib/python3.11/site-packages (from Flask<4->mlflow>=2.0.0->lazypredict) (3.0.2)\n",
                        "Requirement already satisfied: werkzeug>=3.1.0 in /home/vscode/.local/lib/python3.11/site-packages (from Flask<4->mlflow>=2.0.0->lazypredict) (3.1.3)\n",
                        "Requirement already satisfied: graphql-core<3.3,>=3.1 in /home/vscode/.local/lib/python3.11/site-packages (from graphene<4->mlflow>=2.0.0->lazypredict) (3.2.6)\n",
                        "Requirement already satisfied: graphql-relay<3.3,>=3.1 in /home/vscode/.local/lib/python3.11/site-packages (from graphene<4->mlflow>=2.0.0->lazypredict) (3.2.0)\n",
                        "Requirement already satisfied: six>=1.5 in /home/vscode/.local/lib/python3.11/site-packages (from python-dateutil>=2.7->matplotlib->missingno) (1.17.0)\n",
                        "Requirement already satisfied: greenlet>=1 in /home/vscode/.local/lib/python3.11/site-packages (from sqlalchemy<3,>=1.4.0->mlflow>=2.0.0->lazypredict) (3.2.3)\n",
                        "Requirement already satisfied: google-auth~=2.0 in /home/vscode/.local/lib/python3.11/site-packages (from databricks-sdk<1,>=0.20.0->mlflow-skinny==3.1.1->mlflow>=2.0.0->lazypredict) (2.40.3)\n",
                        "Requirement already satisfied: starlette<0.47.0,>=0.40.0 in /home/vscode/.local/lib/python3.11/site-packages (from fastapi<1->mlflow-skinny==3.1.1->mlflow>=2.0.0->lazypredict) (0.46.2)\n",
                        "Requirement already satisfied: gitdb<5,>=4.0.1 in /home/vscode/.local/lib/python3.11/site-packages (from gitpython<4,>=3.1.9->mlflow-skinny==3.1.1->mlflow>=2.0.0->lazypredict) (4.0.12)\n",
                        "Requirement already satisfied: zipp>=3.20 in /home/vscode/.local/lib/python3.11/site-packages (from importlib_metadata!=4.7.0,<9,>=3.7.0->mlflow-skinny==3.1.1->mlflow>=2.0.0->lazypredict) (3.23.0)\n",
                        "Requirement already satisfied: opentelemetry-semantic-conventions==0.55b1 in /home/vscode/.local/lib/python3.11/site-packages (from opentelemetry-sdk<3,>=1.9.0->mlflow-skinny==3.1.1->mlflow>=2.0.0->lazypredict) (0.55b1)\n",
                        "Requirement already satisfied: annotated-types>=0.6.0 in /home/vscode/.local/lib/python3.11/site-packages (from pydantic<3,>=1.10.8->mlflow-skinny==3.1.1->mlflow>=2.0.0->lazypredict) (0.7.0)\n",
                        "Requirement already satisfied: pydantic-core==2.33.2 in /home/vscode/.local/lib/python3.11/site-packages (from pydantic<3,>=1.10.8->mlflow-skinny==3.1.1->mlflow>=2.0.0->lazypredict) (2.33.2)\n",
                        "Requirement already satisfied: typing-inspection>=0.4.0 in /home/vscode/.local/lib/python3.11/site-packages (from pydantic<3,>=1.10.8->mlflow-skinny==3.1.1->mlflow>=2.0.0->lazypredict) (0.4.1)\n",
                        "Requirement already satisfied: charset_normalizer<4,>=2 in /home/vscode/.local/lib/python3.11/site-packages (from requests<3,>=2.17.3->mlflow-skinny==3.1.1->mlflow>=2.0.0->lazypredict) (3.4.2)\n",
                        "Requirement already satisfied: idna<4,>=2.5 in /home/vscode/.local/lib/python3.11/site-packages (from requests<3,>=2.17.3->mlflow-skinny==3.1.1->mlflow>=2.0.0->lazypredict) (3.10)\n",
                        "Requirement already satisfied: certifi>=2017.4.17 in /home/vscode/.local/lib/python3.11/site-packages (from requests<3,>=2.17.3->mlflow-skinny==3.1.1->mlflow>=2.0.0->lazypredict) (2025.6.15)\n",
                        "Requirement already satisfied: h11>=0.8 in /home/vscode/.local/lib/python3.11/site-packages (from uvicorn<1->mlflow-skinny==3.1.1->mlflow>=2.0.0->lazypredict) (0.16.0)\n",
                        "Requirement already satisfied: smmap<6,>=3.0.1 in /home/vscode/.local/lib/python3.11/site-packages (from gitdb<5,>=4.0.1->gitpython<4,>=3.1.9->mlflow-skinny==3.1.1->mlflow>=2.0.0->lazypredict) (5.0.2)\n",
                        "Requirement already satisfied: pyasn1-modules>=0.2.1 in /home/vscode/.local/lib/python3.11/site-packages (from google-auth~=2.0->databricks-sdk<1,>=0.20.0->mlflow-skinny==3.1.1->mlflow>=2.0.0->lazypredict) (0.4.2)\n",
                        "Requirement already satisfied: rsa<5,>=3.1.4 in /home/vscode/.local/lib/python3.11/site-packages (from google-auth~=2.0->databricks-sdk<1,>=0.20.0->mlflow-skinny==3.1.1->mlflow>=2.0.0->lazypredict) (4.9.1)\n",
                        "Requirement already satisfied: anyio<5,>=3.6.2 in /home/vscode/.local/lib/python3.11/site-packages (from starlette<0.47.0,>=0.40.0->fastapi<1->mlflow-skinny==3.1.1->mlflow>=2.0.0->lazypredict) (4.9.0)\n",
                        "Requirement already satisfied: sniffio>=1.1 in /home/vscode/.local/lib/python3.11/site-packages (from anyio<5,>=3.6.2->starlette<0.47.0,>=0.40.0->fastapi<1->mlflow-skinny==3.1.1->mlflow>=2.0.0->lazypredict) (1.3.1)\n",
                        "Requirement already satisfied: pyasn1<0.7.0,>=0.6.1 in /home/vscode/.local/lib/python3.11/site-packages (from pyasn1-modules>=0.2.1->google-auth~=2.0->databricks-sdk<1,>=0.20.0->mlflow-skinny==3.1.1->mlflow>=2.0.0->lazypredict) (0.6.1)\n",
                        "\n",
                        "\u001b[1m[\u001b[0m\u001b[34;49mnotice\u001b[0m\u001b[1;39;49m]\u001b[0m\u001b[39;49m A new release of pip is available: \u001b[0m\u001b[31;49m23.1.2\u001b[0m\u001b[39;49m -> \u001b[0m\u001b[32;49m25.1.1\u001b[0m\n",
                        "\u001b[1m[\u001b[0m\u001b[34;49mnotice\u001b[0m\u001b[1;39;49m]\u001b[0m\u001b[39;49m To update, run: \u001b[0m\u001b[32;49mpip install --upgrade pip\u001b[0m\n"
                    ]
                }
            ],
            "source": [
                "! pip install missingno lazypredict scikit-optimize"
            ]
        },
        {
            "cell_type": "markdown",
            "metadata": {},
            "source": [
                "## **PASO 1: PLANTEAMIENTO DEL PROBLEMA Y RECOPILACIÓN DE DATOS**"
            ]
        },
        {
            "cell_type": "code",
            "execution_count": null,
            "metadata": {},
            "outputs": [],
            "source": []
        }
    ],
    "metadata": {
        "kernelspec": {
            "display_name": "Python 3",
            "language": "python",
            "name": "python3"
        },
        "language_info": {
            "codemirror_mode": {
                "name": "ipython",
                "version": 3
            },
            "file_extension": ".py",
            "mimetype": "text/x-python",
            "name": "python",
            "nbconvert_exporter": "python",
            "pygments_lexer": "ipython3",
            "version": "3.11.4"
        },
        "orig_nbformat": 4
    },
    "nbformat": 4,
    "nbformat_minor": 2
}
